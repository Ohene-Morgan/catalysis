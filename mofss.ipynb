{
 "cells": [
  {
   "cell_type": "code",
   "execution_count": 31,
   "id": "9b85377c",
   "metadata": {},
   "outputs": [],
   "source": [
    "# Based on https://www.datacamp.com/community/tutorials/convolutional-neural-networks-python\n",
    "import numpy as np\n",
    "import pandas as pd\n",
    "import seaborn as sns\n",
    "import keras  # uses TensorFlow backend\n",
    "#from keras.utils import to_categorical\n",
    "from tensorflow.keras.utils import to_categorical\n",
    "from keras.models import Sequential,Input,Model\n",
    "from keras.layers import Dense, Dropout, Flatten\n",
    "from keras.layers import Conv2D, MaxPooling2D\n",
    "#from keras.layers.normalization import BatchNormalization\n",
    "from tensorflow.keras.layers import BatchNormalization\n",
    "from keras.layers.advanced_activations import LeakyReLU\n",
    "from keras.models import model_from_json\n",
    "from tensorflow.keras import optimizers\n",
    "#\n",
    "from sklearn.model_selection import train_test_split\n",
    "from sklearn.metrics import classification_report\n",
    "import matplotlib.pyplot as p"
   ]
  },
  {
   "cell_type": "code",
   "execution_count": 32,
   "id": "64599365",
   "metadata": {},
   "outputs": [],
   "source": [
    "#read CSV file as a dataset with pandas\n",
    "mofs_dataset=pd.read_csv(\"MOFS_data.csv\")"
   ]
  },
  {
   "cell_type": "code",
   "execution_count": 33,
   "id": "ade659cf",
   "metadata": {},
   "outputs": [
    {
     "data": {
      "text/html": [
       "<div>\n",
       "<style scoped>\n",
       "    .dataframe tbody tr th:only-of-type {\n",
       "        vertical-align: middle;\n",
       "    }\n",
       "\n",
       "    .dataframe tbody tr th {\n",
       "        vertical-align: top;\n",
       "    }\n",
       "\n",
       "    .dataframe thead th {\n",
       "        text-align: right;\n",
       "    }\n",
       "</style>\n",
       "<table border=\"1\" class=\"dataframe\">\n",
       "  <thead>\n",
       "    <tr style=\"text-align: right;\">\n",
       "      <th></th>\n",
       "      <th>info.density</th>\n",
       "      <th>info.volume</th>\n",
       "      <th>info.symmetry.spacegroup_number</th>\n",
       "      <th>outputs.pbe.bandgap</th>\n",
       "      <th>outputs.pbe.energy_total</th>\n",
       "    </tr>\n",
       "  </thead>\n",
       "  <tbody>\n",
       "    <tr>\n",
       "      <th>count</th>\n",
       "      <td>20375.000000</td>\n",
       "      <td>20375.000000</td>\n",
       "      <td>20375.000000</td>\n",
       "      <td>20375.000000</td>\n",
       "      <td>20375.000000</td>\n",
       "    </tr>\n",
       "    <tr>\n",
       "      <th>mean</th>\n",
       "      <td>1.695517</td>\n",
       "      <td>1878.529287</td>\n",
       "      <td>19.147877</td>\n",
       "      <td>2.087369</td>\n",
       "      <td>-758.155602</td>\n",
       "    </tr>\n",
       "    <tr>\n",
       "      <th>std</th>\n",
       "      <td>0.646335</td>\n",
       "      <td>2365.395924</td>\n",
       "      <td>36.811554</td>\n",
       "      <td>1.131588</td>\n",
       "      <td>468.324309</td>\n",
       "    </tr>\n",
       "    <tr>\n",
       "      <th>min</th>\n",
       "      <td>0.087070</td>\n",
       "      <td>170.866767</td>\n",
       "      <td>1.000000</td>\n",
       "      <td>0.000131</td>\n",
       "      <td>-3449.382161</td>\n",
       "    </tr>\n",
       "    <tr>\n",
       "      <th>25%</th>\n",
       "      <td>1.335527</td>\n",
       "      <td>791.222381</td>\n",
       "      <td>2.000000</td>\n",
       "      <td>1.088290</td>\n",
       "      <td>-908.198745</td>\n",
       "    </tr>\n",
       "    <tr>\n",
       "      <th>50%</th>\n",
       "      <td>1.698561</td>\n",
       "      <td>1140.413002</td>\n",
       "      <td>9.000000</td>\n",
       "      <td>2.143179</td>\n",
       "      <td>-634.511489</td>\n",
       "    </tr>\n",
       "    <tr>\n",
       "      <th>75%</th>\n",
       "      <td>2.063292</td>\n",
       "      <td>2063.547768</td>\n",
       "      <td>15.000000</td>\n",
       "      <td>2.887478</td>\n",
       "      <td>-451.999601</td>\n",
       "    </tr>\n",
       "    <tr>\n",
       "      <th>max</th>\n",
       "      <td>5.436020</td>\n",
       "      <td>49206.400520</td>\n",
       "      <td>230.000000</td>\n",
       "      <td>6.445777</td>\n",
       "      <td>-110.014150</td>\n",
       "    </tr>\n",
       "  </tbody>\n",
       "</table>\n",
       "</div>"
      ],
      "text/plain": [
       "       info.density   info.volume  info.symmetry.spacegroup_number  \\\n",
       "count  20375.000000  20375.000000                     20375.000000   \n",
       "mean       1.695517   1878.529287                        19.147877   \n",
       "std        0.646335   2365.395924                        36.811554   \n",
       "min        0.087070    170.866767                         1.000000   \n",
       "25%        1.335527    791.222381                         2.000000   \n",
       "50%        1.698561   1140.413002                         9.000000   \n",
       "75%        2.063292   2063.547768                        15.000000   \n",
       "max        5.436020  49206.400520                       230.000000   \n",
       "\n",
       "       outputs.pbe.bandgap  outputs.pbe.energy_total  \n",
       "count         20375.000000              20375.000000  \n",
       "mean              2.087369               -758.155602  \n",
       "std               1.131588                468.324309  \n",
       "min               0.000131              -3449.382161  \n",
       "25%               1.088290               -908.198745  \n",
       "50%               2.143179               -634.511489  \n",
       "75%               2.887478               -451.999601  \n",
       "max               6.445777               -110.014150  "
      ]
     },
     "execution_count": 33,
     "metadata": {},
     "output_type": "execute_result"
    }
   ],
   "source": [
    "mofs_dataset.describe()"
   ]
  },
  {
   "cell_type": "code",
   "execution_count": 34,
   "id": "d2f870f2",
   "metadata": {},
   "outputs": [
    {
     "data": {
      "text/html": [
       "<div>\n",
       "<style scoped>\n",
       "    .dataframe tbody tr th:only-of-type {\n",
       "        vertical-align: middle;\n",
       "    }\n",
       "\n",
       "    .dataframe tbody tr th {\n",
       "        vertical-align: top;\n",
       "    }\n",
       "\n",
       "    .dataframe thead th {\n",
       "        text-align: right;\n",
       "    }\n",
       "</style>\n",
       "<table border=\"1\" class=\"dataframe\">\n",
       "  <thead>\n",
       "    <tr style=\"text-align: right;\">\n",
       "      <th></th>\n",
       "      <th>info.density</th>\n",
       "      <th>info.volume</th>\n",
       "      <th>info.symmetry.spacegroup_number</th>\n",
       "      <th>outputs.pbe.bandgap</th>\n",
       "      <th>outputs.pbe.energy_total</th>\n",
       "    </tr>\n",
       "  </thead>\n",
       "  <tbody>\n",
       "    <tr>\n",
       "      <th>0</th>\n",
       "      <td>2.763246</td>\n",
       "      <td>408.857471</td>\n",
       "      <td>2</td>\n",
       "      <td>0.632527</td>\n",
       "      <td>-238.661417</td>\n",
       "    </tr>\n",
       "    <tr>\n",
       "      <th>1</th>\n",
       "      <td>3.229952</td>\n",
       "      <td>1781.965032</td>\n",
       "      <td>14</td>\n",
       "      <td>1.134232</td>\n",
       "      <td>-672.046744</td>\n",
       "    </tr>\n",
       "    <tr>\n",
       "      <th>2</th>\n",
       "      <td>1.557644</td>\n",
       "      <td>1292.643180</td>\n",
       "      <td>9</td>\n",
       "      <td>0.345448</td>\n",
       "      <td>-759.996078</td>\n",
       "    </tr>\n",
       "    <tr>\n",
       "      <th>3</th>\n",
       "      <td>1.616139</td>\n",
       "      <td>1245.856916</td>\n",
       "      <td>14</td>\n",
       "      <td>0.342645</td>\n",
       "      <td>-760.103362</td>\n",
       "    </tr>\n",
       "    <tr>\n",
       "      <th>4</th>\n",
       "      <td>1.596537</td>\n",
       "      <td>1148.155557</td>\n",
       "      <td>2</td>\n",
       "      <td>1.973007</td>\n",
       "      <td>-700.817715</td>\n",
       "    </tr>\n",
       "  </tbody>\n",
       "</table>\n",
       "</div>"
      ],
      "text/plain": [
       "   info.density  info.volume  info.symmetry.spacegroup_number  \\\n",
       "0      2.763246   408.857471                                2   \n",
       "1      3.229952  1781.965032                               14   \n",
       "2      1.557644  1292.643180                                9   \n",
       "3      1.616139  1245.856916                               14   \n",
       "4      1.596537  1148.155557                                2   \n",
       "\n",
       "   outputs.pbe.bandgap  outputs.pbe.energy_total  \n",
       "0             0.632527               -238.661417  \n",
       "1             1.134232               -672.046744  \n",
       "2             0.345448               -759.996078  \n",
       "3             0.342645               -760.103362  \n",
       "4             1.973007               -700.817715  "
      ]
     },
     "execution_count": 34,
     "metadata": {},
     "output_type": "execute_result"
    }
   ],
   "source": [
    "mofs_dataset.head()"
   ]
  },
  {
   "cell_type": "code",
   "execution_count": 35,
   "id": "a5ab6048",
   "metadata": {},
   "outputs": [
    {
     "data": {
      "text/plain": [
       "(20375, 5)"
      ]
     },
     "execution_count": 35,
     "metadata": {},
     "output_type": "execute_result"
    }
   ],
   "source": [
    "mofs_dataset.shape"
   ]
  },
  {
   "cell_type": "code",
   "execution_count": 36,
   "id": "43b178a4",
   "metadata": {},
   "outputs": [
    {
     "name": "stdout",
     "output_type": "stream",
     "text": [
      "<class 'pandas.core.frame.DataFrame'>\n",
      "RangeIndex: 20375 entries, 0 to 20374\n",
      "Data columns (total 5 columns):\n",
      " #   Column                           Non-Null Count  Dtype  \n",
      "---  ------                           --------------  -----  \n",
      " 0   info.density                     20375 non-null  float64\n",
      " 1   info.volume                      20375 non-null  float64\n",
      " 2   info.symmetry.spacegroup_number  20375 non-null  int64  \n",
      " 3   outputs.pbe.bandgap              20375 non-null  float64\n",
      " 4   outputs.pbe.energy_total         20375 non-null  float64\n",
      "dtypes: float64(4), int64(1)\n",
      "memory usage: 796.0 KB\n"
     ]
    }
   ],
   "source": [
    "mofs_dataset.info()"
   ]
  },
  {
   "cell_type": "code",
   "execution_count": 37,
   "id": "a241d9b8",
   "metadata": {},
   "outputs": [
    {
     "data": {
      "text/html": [
       "<div>\n",
       "<style scoped>\n",
       "    .dataframe tbody tr th:only-of-type {\n",
       "        vertical-align: middle;\n",
       "    }\n",
       "\n",
       "    .dataframe tbody tr th {\n",
       "        vertical-align: top;\n",
       "    }\n",
       "\n",
       "    .dataframe thead th {\n",
       "        text-align: right;\n",
       "    }\n",
       "</style>\n",
       "<table border=\"1\" class=\"dataframe\">\n",
       "  <thead>\n",
       "    <tr style=\"text-align: right;\">\n",
       "      <th></th>\n",
       "      <th>info.density</th>\n",
       "      <th>info.volume</th>\n",
       "      <th>info.symmetry.spacegroup_number</th>\n",
       "      <th>outputs.pbe.bandgap</th>\n",
       "      <th>outputs.pbe.energy_total</th>\n",
       "    </tr>\n",
       "  </thead>\n",
       "  <tbody>\n",
       "    <tr>\n",
       "      <th>info.density</th>\n",
       "      <td>1.000000</td>\n",
       "      <td>-0.542891</td>\n",
       "      <td>-0.087174</td>\n",
       "      <td>0.195002</td>\n",
       "      <td>0.376221</td>\n",
       "    </tr>\n",
       "    <tr>\n",
       "      <th>info.volume</th>\n",
       "      <td>-0.542891</td>\n",
       "      <td>1.000000</td>\n",
       "      <td>0.170474</td>\n",
       "      <td>-0.068592</td>\n",
       "      <td>-0.579868</td>\n",
       "    </tr>\n",
       "    <tr>\n",
       "      <th>info.symmetry.spacegroup_number</th>\n",
       "      <td>-0.087174</td>\n",
       "      <td>0.170474</td>\n",
       "      <td>1.000000</td>\n",
       "      <td>0.027629</td>\n",
       "      <td>-0.238171</td>\n",
       "    </tr>\n",
       "    <tr>\n",
       "      <th>outputs.pbe.bandgap</th>\n",
       "      <td>0.195002</td>\n",
       "      <td>-0.068592</td>\n",
       "      <td>0.027629</td>\n",
       "      <td>1.000000</td>\n",
       "      <td>0.075009</td>\n",
       "    </tr>\n",
       "    <tr>\n",
       "      <th>outputs.pbe.energy_total</th>\n",
       "      <td>0.376221</td>\n",
       "      <td>-0.579868</td>\n",
       "      <td>-0.238171</td>\n",
       "      <td>0.075009</td>\n",
       "      <td>1.000000</td>\n",
       "    </tr>\n",
       "  </tbody>\n",
       "</table>\n",
       "</div>"
      ],
      "text/plain": [
       "                                 info.density  info.volume  \\\n",
       "info.density                         1.000000    -0.542891   \n",
       "info.volume                         -0.542891     1.000000   \n",
       "info.symmetry.spacegroup_number     -0.087174     0.170474   \n",
       "outputs.pbe.bandgap                  0.195002    -0.068592   \n",
       "outputs.pbe.energy_total             0.376221    -0.579868   \n",
       "\n",
       "                                 info.symmetry.spacegroup_number  \\\n",
       "info.density                                           -0.087174   \n",
       "info.volume                                             0.170474   \n",
       "info.symmetry.spacegroup_number                         1.000000   \n",
       "outputs.pbe.bandgap                                     0.027629   \n",
       "outputs.pbe.energy_total                               -0.238171   \n",
       "\n",
       "                                 outputs.pbe.bandgap  outputs.pbe.energy_total  \n",
       "info.density                                0.195002                  0.376221  \n",
       "info.volume                                -0.068592                 -0.579868  \n",
       "info.symmetry.spacegroup_number             0.027629                 -0.238171  \n",
       "outputs.pbe.bandgap                         1.000000                  0.075009  \n",
       "outputs.pbe.energy_total                    0.075009                  1.000000  "
      ]
     },
     "execution_count": 37,
     "metadata": {},
     "output_type": "execute_result"
    }
   ],
   "source": [
    "mofs_dataset.corr()"
   ]
  },
  {
   "cell_type": "code",
   "execution_count": 38,
   "id": "1f166b83",
   "metadata": {},
   "outputs": [
    {
     "data": {
      "image/png": "[encoded data removed]",
      "text/plain": [
       "<Figure size 1080x864 with 2 Axes>"
      ]
     },
     "metadata": {
      "needs_background": "light"
     },
     "output_type": "display_data"
    }
   ],
   "source": [
    "p.figure(figsize = (15, 12))\n",
    "sns.heatmap(mofs_dataset.corr(), annot = True, cmap = \"Blues\")\n",
    "p.show()"
   ]
  },
  {
   "cell_type": "code",
   "execution_count": 39,
   "id": "820bbb98",
   "metadata": {},
   "outputs": [
    {
     "data": {
      "text/plain": [
       "<AxesSubplot:>"
      ]
     },
     "execution_count": 39,
     "metadata": {},
     "output_type": "execute_result"
    },
    {
     "data": {
      "image/png": "[encoded data removed]",
      "text/plain": [
       "<Figure size 432x288 with 2 Axes>"
      ]
     },
     "metadata": {
      "needs_background": "light"
     },
     "output_type": "display_data"
    }
   ],
   "source": [
    "# Check for null values\n",
    "sns.heatmap(mofs_dataset.isnull(), cmap = \"Blues\")"
   ]
  },
  {
   "cell_type": "code",
   "execution_count": 40,
   "id": "28bc9efd",
   "metadata": {},
   "outputs": [
    {
     "data": {
      "text/plain": [
       "info.density                       0\n",
       "info.volume                        0\n",
       "info.symmetry.spacegroup_number    0\n",
       "outputs.pbe.bandgap                0\n",
       "outputs.pbe.energy_total           0\n",
       "dtype: int64"
      ]
     },
     "execution_count": 40,
     "metadata": {},
     "output_type": "execute_result"
    }
   ],
   "source": [
    "mofs_dataset.isnull().sum()"
   ]
  },
  {
   "cell_type": "markdown",
   "id": "844dfa8e",
   "metadata": {},
   "source": [
    "# No null value found"
   ]
  },
  {
   "cell_type": "code",
   "execution_count": 41,
   "id": "3b7e7974",
   "metadata": {},
   "outputs": [
    {
     "data": {
      "text/plain": [
       "array([[<AxesSubplot:title={'center':'info.density'}>,\n",
       "        <AxesSubplot:title={'center':'info.volume'}>],\n",
       "       [<AxesSubplot:title={'center':'info.symmetry.spacegroup_number'}>,\n",
       "        <AxesSubplot:title={'center':'outputs.pbe.bandgap'}>],\n",
       "       [<AxesSubplot:title={'center':'outputs.pbe.energy_total'}>,\n",
       "        <AxesSubplot:>]], dtype=object)"
      ]
     },
     "execution_count": 41,
     "metadata": {},
     "output_type": "execute_result"
    },
    {
     "data": {
      "image/png": "[encoded data removed]",
      "text/plain": [
       "<Figure size 1440x1440 with 6 Axes>"
      ]
     },
     "metadata": {
      "needs_background": "light"
     },
     "output_type": "display_data"
    }
   ],
   "source": [
    "# Display all columns in histogram format\n",
    "mofs_dataset.hist(figsize = (20,20))"
   ]
  },
  {
   "cell_type": "code",
   "execution_count": 42,
   "id": "b059f450",
   "metadata": {},
   "outputs": [
    {
     "name": "stdout",
     "output_type": "stream",
     "text": [
      "Duplicates:  0\n"
     ]
    },
    {
     "data": {
      "text/html": [
       "<div>\n",
       "<style scoped>\n",
       "    .dataframe tbody tr th:only-of-type {\n",
       "        vertical-align: middle;\n",
       "    }\n",
       "\n",
       "    .dataframe tbody tr th {\n",
       "        vertical-align: top;\n",
       "    }\n",
       "\n",
       "    .dataframe thead th {\n",
       "        text-align: right;\n",
       "    }\n",
       "</style>\n",
       "<table border=\"1\" class=\"dataframe\">\n",
       "  <thead>\n",
       "    <tr style=\"text-align: right;\">\n",
       "      <th></th>\n",
       "      <th>info.density</th>\n",
       "      <th>info.volume</th>\n",
       "      <th>info.symmetry.spacegroup_number</th>\n",
       "      <th>outputs.pbe.bandgap</th>\n",
       "      <th>outputs.pbe.energy_total</th>\n",
       "    </tr>\n",
       "  </thead>\n",
       "  <tbody>\n",
       "  </tbody>\n",
       "</table>\n",
       "</div>"
      ],
      "text/plain": [
       "Empty DataFrame\n",
       "Columns: [info.density, info.volume, info.symmetry.spacegroup_number, outputs.pbe.bandgap, outputs.pbe.energy_total]\n",
       "Index: []"
      ]
     },
     "execution_count": 42,
     "metadata": {},
     "output_type": "execute_result"
    }
   ],
   "source": [
    "# Checking duplicates\n",
    "duplicates = mofs_dataset[mofs_dataset.duplicated()]\n",
    "print(\"Duplicates: \", len(duplicates))\n",
    "duplicates"
   ]
  },
  {
   "cell_type": "code",
   "execution_count": 43,
   "id": "7f168595",
   "metadata": {},
   "outputs": [
    {
     "data": {
      "text/plain": [
       "(20375, 5)"
      ]
     },
     "execution_count": 43,
     "metadata": {},
     "output_type": "execute_result"
    }
   ],
   "source": [
    "mofs_dataset.shape"
   ]
  },
  {
   "cell_type": "markdown",
   "id": "d3ecf966",
   "metadata": {},
   "source": [
    "# Train-test split"
   ]
  },
  {
   "cell_type": "code",
   "execution_count": 44,
   "id": "ed20cbdd",
   "metadata": {},
   "outputs": [],
   "source": [
    "# input\n",
    "x = mofs_dataset.iloc[:, 1:].values\n",
    "# output\n",
    "y = mofs_dataset.iloc[:, 0].values\n",
    "\n",
    "# Split data into 80:20\n",
    "from sklearn.model_selection import train_test_split\n",
    "x_train, x_test, y_train, y_test = train_test_split(x, y, test_size = 0.2, random_state = 0)"
   ]
  },
  {
   "cell_type": "code",
   "execution_count": 45,
   "id": "ecf205c9",
   "metadata": {},
   "outputs": [
    {
     "name": "stdout",
     "output_type": "stream",
     "text": [
      "[[ 4.08857471e+02  2.00000000e+00  6.32527000e-01 -2.38661417e+02]\n",
      " [ 1.78196503e+03  1.40000000e+01  1.13423200e+00 -6.72046744e+02]\n",
      " [ 1.29264318e+03  9.00000000e+00  3.45448000e-01 -7.59996078e+02]\n",
      " ...\n",
      " [ 8.08834646e+03  1.00000000e+00  3.38362900e+00 -9.13083401e+02]\n",
      " [ 3.14310356e+04  1.00000000e+00  6.60589000e-01 -1.51260732e+03]\n",
      " [ 3.47940261e+04  1.00000000e+00  2.34802100e+00 -1.57249324e+03]]\n"
     ]
    }
   ],
   "source": [
    "print(x)"
   ]
  },
  {
   "cell_type": "code",
   "execution_count": 46,
   "id": "e8c60350",
   "metadata": {},
   "outputs": [
    {
     "name": "stdout",
     "output_type": "stream",
     "text": [
      "[2.76324637 3.22995179 1.55764365 ... 0.38096338 0.13294879 0.1258275 ]\n"
     ]
    }
   ],
   "source": [
    "print(y)"
   ]
  },
  {
   "cell_type": "markdown",
   "id": "0c6cafb0",
   "metadata": {},
   "source": [
    "# Feature Scaling using MinMaxScalar"
   ]
  },
  {
   "cell_type": "code",
   "execution_count": 47,
   "id": "70b7bc72",
   "metadata": {},
   "outputs": [],
   "source": [
    "from sklearn.preprocessing import MinMaxScaler\n",
    "scaler = MinMaxScaler()\n",
    "x_train = scaler.fit_transform(x_train)\n",
    "x_test = scaler.transform(x_test)"
   ]
  },
  {
   "cell_type": "code",
   "execution_count": 48,
   "id": "288dde50",
   "metadata": {},
   "outputs": [
    {
     "name": "stdout",
     "output_type": "stream",
     "text": [
      "[[0.05253759 0.00436681 0.16721737 0.70905918]\n",
      " [0.03117488 0.         0.36669885 0.87924696]\n",
      " [0.00939682 0.08296943 0.37466563 0.91432942]\n",
      " ...\n",
      " [0.01876776 0.00436681 0.0513767  0.83256212]\n",
      " [0.01751383 0.05676856 0.12993019 0.8564365 ]\n",
      " [0.01283635 0.05676856 0.19714409 0.883274  ]]\n"
     ]
    }
   ],
   "source": [
    "print(x_train)"
   ]
  },
  {
   "cell_type": "code",
   "execution_count": 49,
   "id": "63211355",
   "metadata": {},
   "outputs": [
    {
     "name": "stdout",
     "output_type": "stream",
     "text": [
      "[[0.10452727 0.05676856 0.06172585 0.0817294 ]\n",
      " [0.01985489 0.12227074 0.6532377  0.84170966]\n",
      " [0.00365334 0.04803493 0.10473706 0.97701696]\n",
      " ...\n",
      " [0.01081633 0.00436681 0.49536943 0.90844941]\n",
      " [0.01514315 0.         0.33144901 0.93580253]\n",
      " [0.02348259 0.06113537 0.48604065 0.78823178]]\n"
     ]
    }
   ],
   "source": [
    "print(x_test )"
   ]
  },
  {
   "cell_type": "markdown",
   "id": "15d79f57",
   "metadata": {},
   "source": [
    "# tabular to image data"
   ]
  },
  {
   "cell_type": "code",
   "execution_count": null,
   "id": "bae6b206",
   "metadata": {},
   "outputs": [],
   "source": [
    "#DeepInsight Image Transformation"
   ]
  },
  {
   "cell_type": "code",
   "execution_count": null,
   "id": "bd656571",
   "metadata": {},
   "outputs": [],
   "source": []
  }
 ],
 "metadata": {
  "kernelspec": {
   "display_name": "Python 3 (ipykernel)",
   "language": "python",
   "name": "python3"
  },
  "language_info": {
   "codemirror_mode": {
    "name": "ipython",
    "version": 3
   },
   "file_extension": ".py",
   "mimetype": "text/x-python",
   "name": "python",
   "nbconvert_exporter": "python",
   "pygments_lexer": "ipython3",
   "version": "3.9.7"
  }
 },
 "nbformat": 4,
 "nbformat_minor": 5
}
